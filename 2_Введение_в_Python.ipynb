{
  "nbformat": 4,
  "nbformat_minor": 0,
  "metadata": {
    "colab": {
      "provenance": [],
      "authorship_tag": "ABX9TyMbwey0aTjUOaI5F0zlqLYa",
      "include_colab_link": true
    },
    "kernelspec": {
      "name": "python3",
      "display_name": "Python 3"
    }
  },
  "cells": [
    {
      "cell_type": "markdown",
      "metadata": {
        "id": "view-in-github",
        "colab_type": "text"
      },
      "source": [
        "<a href=\"https://colab.research.google.com/github/ealatukhina/Python-lections/blob/main/2_%D0%92%D0%B2%D0%B5%D0%B4%D0%B5%D0%BD%D0%B8%D0%B5_%D0%B2_Python.ipynb\" target=\"_parent\"><img src=\"https://colab.research.google.com/assets/colab-badge.svg\" alt=\"Open In Colab\"/></a>"
      ]
    },
    {
      "cell_type": "markdown",
      "source": [
        "#**Лекция №2. Введение в Python**"
      ],
      "metadata": {
        "id": "NebrkfedlLYS"
      }
    },
    {
      "cell_type": "markdown",
      "source": [
        "##**О языке программирования Python**\n",
        "\n",
        "**Python** — высокоуровневый язык программирования общего назначения.\n",
        "\n",
        "**Высокоуровневый язык** — синтаксис языка максимально близок к человеческому языку.\n",
        "\n",
        "Преимущества:\n",
        "* Низкий порог вхождения.\n",
        "* Высокая читаемость кода.\n",
        "* Минималистичный синтаксис.\n",
        "* Богатая стандартная библиотека.\n",
        "* Большой набор дополнительных библиотек для решения задач из\n",
        "разных областей, в том числе задач анализа данных.\n",
        "* Популярный и активно развивающийся язык программирования.\n",
        "\n",
        "Разработка языка Python была начата в конце 80-х годов Гвидо ван Россумом. Хронология:\n",
        "* Первая версия выпущена в 1991 году.\n",
        "* Python 2.0 был выпущен в 2000 году и включал много новых функций (сборщик мусора, поддержка Unicode и др.). В настоящее время\n",
        "не поддерживается.\n",
        "* Python 3.0 был выпущен в 2008 и является обратно\n",
        "несовместимым.\n",
        "* Название языка произошло от популярного британского комедийного телешоу 1970-х «Летающий цирк Монти Пайтона» (Monty Python's Flying Circus) — любимое шоу создателя языка Гвидо ван Россума."
      ],
      "metadata": {
        "id": "MKIUD_vYq3ba"
      }
    },
    {
      "cell_type": "markdown",
      "source": [
        "## **Zen of Python**\n",
        "\n",
        "Дзен питона — общепринятая философия языка программирования Python.\n",
        "\n",
        "Запустите следующую ячейку."
      ],
      "metadata": {
        "id": "CF9kpEwUt-3t"
      }
    },
    {
      "cell_type": "code",
      "source": [
        "import this"
      ],
      "metadata": {
        "id": "NLR1fD_urHdq",
        "colab": {
          "base_uri": "https://localhost:8080/"
        },
        "outputId": "4b5ab87b-dcda-4e76-bd1f-88b8808c9a76"
      },
      "execution_count": null,
      "outputs": [
        {
          "output_type": "stream",
          "name": "stdout",
          "text": [
            "The Zen of Python, by Tim Peters\n",
            "\n",
            "Beautiful is better than ugly.\n",
            "Explicit is better than implicit.\n",
            "Simple is better than complex.\n",
            "Complex is better than complicated.\n",
            "Flat is better than nested.\n",
            "Sparse is better than dense.\n",
            "Readability counts.\n",
            "Special cases aren't special enough to break the rules.\n",
            "Although practicality beats purity.\n",
            "Errors should never pass silently.\n",
            "Unless explicitly silenced.\n",
            "In the face of ambiguity, refuse the temptation to guess.\n",
            "There should be one-- and preferably only one --obvious way to do it.\n",
            "Although that way may not be obvious at first unless you're Dutch.\n",
            "Now is better than never.\n",
            "Although never is often better than *right* now.\n",
            "If the implementation is hard to explain, it's a bad idea.\n",
            "If the implementation is easy to explain, it may be a good idea.\n",
            "Namespaces are one honking great idea -- let's do more of those!\n"
          ]
        }
      ]
    },
    {
      "cell_type": "markdown",
      "source": [
        "Перевод на русский:\n",
        "* Красивое лучше, чем уродливое.\n",
        "*    Явное лучше, чем неявное.\n",
        "*    Простое лучше, чем сложное.\n",
        "*    Сложное лучше, чем запутанное.\n",
        "*    Плоское лучше, чем вложенное.\n",
        "*    Разреженное лучше, чем плотное.\n",
        "*    Читаемость имеет значение.\n",
        "*    Особые случаи не настолько особые, чтобы нарушать правила.\n",
        "*    При этом практичность важнее безупречности.\n",
        "*    Ошибка никогда не должна замалчиваться.\n",
        "*    Если только вы сами этого не захотите.\n",
        "*    Встретив двусмысленность, отбросьте искушение угадать.\n",
        "*    Должен существовать один и, желательно, только один очевидный способ сделать что-то.\n",
        "*    Хотя он поначалу может быть и не очевиден, если вы не голландец.\n",
        "*    Сейчас лучше, чем никогда.\n",
        "*    Хотя никогда зачастую лучше, чем прямо сейчас.\n",
        "*    Если реализацию сложно объяснить — идея плоха.\n",
        "*    Если реализацию легко объяснить — идея, возможно, хороша.\n",
        "*    Пространства имён — отличная штука! Будем делать их больше!"
      ],
      "metadata": {
        "id": "LKXo7HA5uT2S"
      }
    },
    {
      "cell_type": "markdown",
      "metadata": {
        "id": "VztxvQRMA77B"
      },
      "source": [
        "##**Привет, мир! Ввод, вывод, простые программы**\n",
        "\n",
        "По традиции первой программой, которую программист пишет на новом языке программирования, является программа, выводящая на экран строчку \"Привет, мир!\". Ниже приведен пример такой команды на Python. Запустите ее и убедитесь в том, что программа работает правильно."
      ]
    },
    {
      "cell_type": "code",
      "metadata": {
        "id": "2vljWoWP4cVI",
        "colab": {
          "base_uri": "https://localhost:8080/"
        },
        "outputId": "2bff2831-2508-4897-cdbd-c83c2ba65970"
      },
      "source": [
        "print(\"Привет, мир!\")"
      ],
      "execution_count": null,
      "outputs": [
        {
          "output_type": "stream",
          "name": "stdout",
          "text": [
            "Привет, мир!\n"
          ]
        }
      ]
    },
    {
      "cell_type": "markdown",
      "metadata": {
        "id": "t3r-qsklOCUd"
      },
      "source": [
        "Если перед строчкой кода стоит знак #, она считается комментарием и не выполняется. При помощи комментариев можно временно отключать строчки кода, а также документировать программу."
      ]
    },
    {
      "cell_type": "code",
      "metadata": {
        "id": "gNfcPeaPODD3"
      },
      "source": [
        "# Эта строка комментарий и не выполняется"
      ],
      "execution_count": null,
      "outputs": []
    },
    {
      "cell_type": "markdown",
      "metadata": {
        "id": "pPoQVEbIDLSu"
      },
      "source": [
        "Ввод данных осуществляется при помощи команды `input()`, а результат можно присвоить переменной.\n",
        "\n"
      ]
    },
    {
      "cell_type": "markdown",
      "source": [
        "###**Переменные**\n",
        "\n",
        "**Переменная** — именнованная область памяти, предназначенная для хранения данных. У переменной есть:\n",
        "* Имя, по которому к ней можно обратиться.\n",
        "* Значение, которое в ней хранится.\n",
        "* Тип данных, определяющий внутреннее представление данных."
      ],
      "metadata": {
        "id": "ZqHl3m80xztM"
      }
    },
    {
      "cell_type": "markdown",
      "source": [
        "**Имя переменной** — идентификатор.\n",
        "\n",
        "**Идентификатор** — имя программного объекта.\n",
        "\n",
        "* Идентификатор может начинаться с английской буквы любого регистра\n",
        "или подчёркивания.\n",
        "* Далее в имени можно использовать и цифры.\n",
        "* В качестве имени нельзя использовать ключевые слова.\n",
        "\n",
        "**Ключевые слова** — команды, которые могут использоваться только в одном смысле, определяемом синтаксисом языка.\n",
        "\n",
        "Ключевые слова Python:\n",
        "\n",
        "![изображение.png](data:image/png;base64,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)"
      ],
      "metadata": {
        "id": "kMuER7SDyMIa"
      }
    },
    {
      "cell_type": "markdown",
      "source": [
        "**Примечание:** в современных версиях Python возможно использование символов национальных алфавитов, в том числе и русского, в идентификаторах, но мы категорически не рекомендуем это делать. Во-первых, нарушается переносимость кода, а во-вторых, многие русские буквы похожи на английские и можно очень легко запутаться."
      ],
      "metadata": {
        "id": "1a-x4crRzUGC"
      }
    },
    {
      "cell_type": "markdown",
      "source": [
        "Подумайте, какой результат должен вывести следующий скрипт, а затем запустите его."
      ],
      "metadata": {
        "id": "P8gwTb66xdgr"
      }
    },
    {
      "cell_type": "code",
      "metadata": {
        "id": "omhL-9ZPDFw3",
        "colab": {
          "base_uri": "https://localhost:8080/"
        },
        "outputId": "dba5db06-557a-4c8a-c5e3-abf0106c2396",
        "collapsed": true
      },
      "source": [
        "a = input(\"Введите a \")\n",
        "b = input(\"Введите b \")\n",
        "c = a + b\n",
        "print(c)"
      ],
      "execution_count": null,
      "outputs": [
        {
          "output_type": "stream",
          "name": "stdout",
          "text": [
            "Введите a 2\n",
            "Введите b 3\n",
            "23\n"
          ]
        }
      ]
    },
    {
      "cell_type": "markdown",
      "metadata": {
        "id": "CPlmOKdMFA5u"
      },
      "source": [
        "Можно заметить, что сложение работает несколько «странно». Все дело в том, что Python по умолчанию считает всю вводимую информацию текстовой.\n",
        "\n",
        "Python — язык с неявной динамической типизацией. Неявная типизация — тип данных выбирается автоматически без участия программиста. Динамическая — тип данных может меняться в ходе выполнения программы. Далеко не все языки программирования обладают неявной и/или динамической типизацией.\n",
        "\n",
        "В Pyhton существуют различные типы данных, мы будем знакомиться с их возможностями по мере изучения курса. Например, текстовый тип данных также называется **строковым** (см. лекцию 4), а **целочисленный** тип данных предназначен для хранения целых чисел."
      ]
    },
    {
      "cell_type": "markdown",
      "source": [
        "Для того, чтобы посчитать сумму двух **целых** чисел, нужно выполнить преобразование к целому типу при помощи команды `int()`."
      ],
      "metadata": {
        "id": "aRD12GIWz7_j"
      }
    },
    {
      "cell_type": "code",
      "metadata": {
        "id": "-fhxZYzpFAkF",
        "colab": {
          "base_uri": "https://localhost:8080/"
        },
        "outputId": "19728ba3-f2fc-47bb-aa54-6f83ce425db7"
      },
      "source": [
        "a = int(input(\"Введите a \"))\n",
        "b = int(input(\"Введите b \"))\n",
        "c = a + b\n",
        "print(c)"
      ],
      "execution_count": null,
      "outputs": [
        {
          "output_type": "stream",
          "name": "stdout",
          "text": [
            "Введите a 2\n",
            "Введите b 3\n",
            "5\n"
          ]
        }
      ]
    },
    {
      "cell_type": "markdown",
      "metadata": {
        "id": "IHKZpUcDHALy"
      },
      "source": [
        "Для того, чтобы программа работала с нецелыми числами, необходимо выполнить преобразование с помощью команды `float()`. Эта команда позволяет использовать тип данных **с плавающей точкой**, используемый для хранения **нецелых чисел**."
      ]
    },
    {
      "cell_type": "code",
      "metadata": {
        "id": "5zghgiMCG45i",
        "colab": {
          "base_uri": "https://localhost:8080/"
        },
        "outputId": "f01cb302-144a-456d-e0aa-813067de7bdb"
      },
      "source": [
        "a = float(input(\"Введите a \"))\n",
        "b = float(input(\"Введите b \"))\n",
        "c = a + b\n",
        "print(c)\n",
        "print(125**(1/3))"
      ],
      "execution_count": null,
      "outputs": [
        {
          "output_type": "stream",
          "name": "stdout",
          "text": [
            "Введите a 2\n",
            "Введите b 3\n",
            "5.0\n",
            "4.999999999999999\n"
          ]
        }
      ]
    },
    {
      "cell_type": "markdown",
      "source": [
        "Может показаться, что Python «неправильно» считает, но это не так. Дело в том, что вычисления с плавающей точкой **всегда являются приближенными**, и накопленная в ходе вычислений погрешность может оказаться достаточно значимой. Подробнее это будет рассмотрено в одной из следующих лекций."
      ],
      "metadata": {
        "id": "25_cjhIv4VHk"
      }
    },
    {
      "cell_type": "markdown",
      "source": [
        "###**Операторы**\n",
        "\n",
        "**Оператор** — элемент выражения, указывающий, какое действие необходимо выполнить.\n",
        "\n",
        "Например, в выражении `2 + 3` знак операции сложения `+` является оператором, а числа 2 и 3 называются **операндами**.\n",
        "\n",
        "В Python выделяют следующие виды операторов:\n",
        "* Арифметические операторы.\n",
        "* Операторы сравнения.\n",
        "* Операторы присваивания.\n",
        "* Логические операторы (and, or, not).\n",
        "* Операторы членства (in, not in).\n",
        "* Операторы тождественности (is, is not).\n",
        "\n",
        "Мы будем рассматривать операторы по ходу изучения курса.\n",
        "\n",
        "**Арифметические операторы**:\n",
        "```\n",
        "+   Сложение.\n",
        "-   Вычитание.\n",
        "*   Умножение\n",
        "/   Деление (результатом будет нецелое число).\n",
        "//  Целочисленное деление.\n",
        "%   Остаток от деления.\n",
        "**  Возведение в степень.\n",
        "```\n",
        "\n"
      ],
      "metadata": {
        "id": "iExJYSxA2zl5"
      }
    },
    {
      "cell_type": "code",
      "source": [
        "print(2 + 3)\n",
        "print(2 - 3)\n",
        "print(2 * 3)\n",
        "print(2 / 3)\n",
        "print(2 // 3)\n",
        "print(2 % 3)\n",
        "print(2 ** 3)"
      ],
      "metadata": {
        "colab": {
          "base_uri": "https://localhost:8080/"
        },
        "id": "VGbjcmuu4g6G",
        "outputId": "d2c33cb1-f526-40ae-f078-111c85b4d566"
      },
      "execution_count": null,
      "outputs": [
        {
          "output_type": "stream",
          "name": "stdout",
          "text": [
            "5\n",
            "-1\n",
            "6\n",
            "0.6666666666666666\n",
            "0\n",
            "2\n",
            "8\n"
          ]
        }
      ]
    },
    {
      "cell_type": "markdown",
      "source": [
        "**Оператор присваивания** позволяет присвоить значение правого операнда левому.\n",
        "\n",
        "```\n",
        "=   Простое присваивание.\n",
        "+=  a += b эквивалентно a = a + b\n",
        "-=  a -= b эквивалентно a = a - b\n",
        "и т.д. для всех арифметических операторов, рассмотренных выше.\n",
        "```"
      ],
      "metadata": {
        "id": "Ea5xyA384ymk"
      }
    },
    {
      "cell_type": "code",
      "source": [
        "a = 4\n",
        "b = 3\n",
        "b /= a\n",
        "print(b)"
      ],
      "metadata": {
        "collapsed": true,
        "id": "2GZaSkAB5cg4"
      },
      "execution_count": null,
      "outputs": []
    },
    {
      "cell_type": "markdown",
      "metadata": {
        "id": "xoB89iuKHtXl"
      },
      "source": [
        "##**Линейные алгоритмы**\n",
        "\n",
        "Линейный алгоритм — это алгоритм, в котором все действия выполняются последовательно одно за другим. Как правило, простая линейная программа состоит из следующих этапов (в зависимости от задачи каких-то из них может не быть):\n",
        "\n",
        "\n",
        "1.   Ввод данных.\n",
        "2.   Выполнение расчетов.\n",
        "3.   Вывод результата.\n",
        "\n"
      ]
    },
    {
      "cell_type": "markdown",
      "source": [
        "**Задача**. Напишите программу, вычисляющую площадь прямоугольного треугольника с катетами a и b."
      ],
      "metadata": {
        "id": "rh26nV5UVVGi"
      }
    },
    {
      "cell_type": "code",
      "source": [
        "#Напишите здесь решение задачи 1\n",
        "a = float(input(\"Введите a \"))\n",
        "b = float(input(\"Введите b \"))\n",
        "S = a * b / 2\n",
        "print(\"Площадь равна \", S)"
      ],
      "metadata": {
        "id": "lhmdJOwhVUC5",
        "colab": {
          "base_uri": "https://localhost:8080/"
        },
        "outputId": "ce5519a5-0b51-4f34-8838-c31bf18034eb"
      },
      "execution_count": null,
      "outputs": [
        {
          "output_type": "stream",
          "name": "stdout",
          "text": [
            "Введите a 2.2\n",
            "Введите b 3.7\n",
            "Площадь равна  4.07\n"
          ]
        }
      ]
    }
  ]
}